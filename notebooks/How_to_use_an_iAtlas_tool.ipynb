{
 "cells": [
  {
   "cell_type": "markdown",
   "metadata": {},
   "source": [
    "# iAtlas Notebooks\n",
    "\n",
    "\n",
    "```\n",
    "Title:   How to run an iAtlas tool\n",
    "Author:  David L Gibbs\n",
    "Created: 2019-11-16\n",
    "Purpose: Introduction to using a workflow execution service, GA4GH style\n",
    "Repo: \n",
    "Notes: Does not work on google colabs.\n",
    "```"
   ]
  },
  {
   "cell_type": "markdown",
   "metadata": {},
   "source": [
    "# How to run an iAtlas workflow"
   ]
  },
  {
   "cell_type": "markdown",
   "metadata": {},
   "source": [
    "## software install and setup"
   ]
  },
  {
   "cell_type": "markdown",
   "metadata": {},
   "source": [
    "This notebook is designed to be a quick introduction to using an iAtlas workflow.\n",
    "\n",
    "Software used: java, docker, dockstore\n",
    "\n",
    "The dockstore client was installed using instructions from: https://dockstore.org/quick-start\n",
    "\n",
    "This includes installing java, docker, and the dockstore client. Docker needs to be \n",
    "setup to run without sudo privileges.\n",
    "\n",
    "The the below commands should all work:\n"
   ]
  },
  {
   "cell_type": "code",
   "execution_count": 1,
   "metadata": {},
   "outputs": [
    {
     "name": "stdout",
     "output_type": "stream",
     "text": [
      "openjdk version \"11.0.5\" 2019-10-15\n",
      "OpenJDK Runtime Environment (build 11.0.5+10-post-Ubuntu-0ubuntu1.118.04)\n",
      "OpenJDK 64-Bit Server VM (build 11.0.5+10-post-Ubuntu-0ubuntu1.118.04, mixed mode, sharing)\n"
     ]
    }
   ],
   "source": [
    "!java -version"
   ]
  },
  {
   "cell_type": "code",
   "execution_count": 6,
   "metadata": {},
   "outputs": [
    {
     "name": "stdout",
     "output_type": "stream",
     "text": [
      "Dockstore version 1.7.3\n",
      "You are running the latest stable version...\n",
      "If you wish to upgrade to the latest unstable version, please use the following command:\n",
      "   dockstore --upgrade-unstable\n"
     ]
    }
   ],
   "source": [
    "!/home/dave/bin/dockstore --version\n",
    "# in the terminal, just 'dockstore --version' works"
   ]
  },
  {
   "cell_type": "code",
   "execution_count": 9,
   "metadata": {},
   "outputs": [
    {
     "name": "stdout",
     "output_type": "stream",
     "text": [
      "\n",
      "Hello from Docker!\n",
      "This message shows that your installation appears to be working correctly.\n",
      "\n"
     ]
    }
   ],
   "source": [
    "!docker run hello-world | head -n 4"
   ]
  },
  {
   "cell_type": "code",
   "execution_count": null,
   "metadata": {},
   "outputs": [],
   "source": [
    "!cwltool --version"
   ]
  },
  {
   "cell_type": "markdown",
   "metadata": {},
   "source": [
    "## Ready to launch!\n"
   ]
  },
  {
   "cell_type": "markdown",
   "metadata": {},
   "source": [
    "Let's work with the docksore client to launch a workflow.\n",
    "\n",
    "From the dockstore site, I used the search bar to search for 'iAtlas'.\n",
    "This brought up a number of different workflows. By clicking on \n",
    "the 'ImmuneSubtypeClustering' link, we have various information pages.\n",
    "The 'Launch' tab contains instructions about launching the workflow\n",
    "using cwltool."
   ]
  },
  {
   "cell_type": "code",
   "execution_count": 37,
   "metadata": {},
   "outputs": [],
   "source": [
    "#!/home/dave/bin/dockstore workflow convert entry2json \\\n",
    "#--entry github.com/CRI-iAtlas/iatlas-workflows/ImmuneSubtypeClustering:develop > Dockstore.json\n",
    "    \n",
    "!/home/dave/bin/dockstore workflow convert entry2json --entry github.com/CRI-iAtlas/iatlas-workflows/Cibersort:develop > Dockstore.json\n",
    "  "
   ]
  },
  {
   "cell_type": "code",
   "execution_count": 38,
   "metadata": {},
   "outputs": [
    {
     "name": "stdout",
     "output_type": "stream",
     "text": [
      "{\n",
      "  \"input_file\": {\n",
      "    \"path\": \"/tmp/fill_me_in.txt\",\n",
      "    \"class\": \"File\"\n",
      "  },\n",
      "  \"cell_counts_file\": {\n",
      "    \"path\": \"/tmp/fill_me_in.txt\",\n",
      "    \"class\": \"File\"\n",
      "  },\n",
      "  \"output_file\": \"fill me in\",\n",
      "  \"sample_name\": \"fill me in\"\n",
      "}\n"
     ]
    }
   ],
   "source": [
    "!cat Dockstore.json"
   ]
  },
  {
   "cell_type": "markdown",
   "metadata": {},
   "source": [
    "Now we need to fill this in with inputs, outputs, and other parameters.\n",
    "\n",
    "Let's get some data!"
   ]
  },
  {
   "cell_type": "code",
   "execution_count": 25,
   "metadata": {},
   "outputs": [
    {
     "name": "stdout",
     "output_type": "stream",
     "text": [
      "  % Total    % Received % Xferd  Average Speed   Time    Time     Time  Current\n",
      "                                 Dload  Upload   Total   Spent    Left  Speed\n",
      "100 2868k  100 2868k    0     0  31.1M      0 --:--:-- --:--:-- --:--:-- 31.1M\n"
     ]
    }
   ],
   "source": [
    "!curl -o ebpp_test1_1to20.tsv https://raw.githubusercontent.com/CRI-iAtlas/shiny-iatlas/develop/data/ebpp_test1_1to20.tsv"
   ]
  },
  {
   "cell_type": "code",
   "execution_count": 28,
   "metadata": {},
   "outputs": [
    {
     "name": "stdout",
     "output_type": "stream",
     "text": [
      "GeneID\tXY1\tXY2\tXY3\tXY4\tXY5\n",
      "100130426\t0\t0\t0\t0\t0\n",
      "100133144\t3.2661\t2.6815\t1.7301\t0\t0\n",
      "100134869\t3.9385\t8.9948\t6.565\t1.5492\t4.4709\n",
      "10357\t149.135\t81.0777\t86.4879\t53.9117\t66.9063\n"
     ]
    }
   ],
   "source": [
    "!head -n 5 ebpp_test1_1to20.tsv | cut -f 1-6"
   ]
  },
  {
   "cell_type": "markdown",
   "metadata": {},
   "source": [
    "We also need the cell signatures file."
   ]
  },
  {
   "cell_type": "code",
   "execution_count": 10,
   "metadata": {},
   "outputs": [],
   "source": [
    "rundata='''\n",
    "{\n",
    "  \"input_file\": {\n",
    "    \"path\": \"/mnt/c/Users/dgibbs/Work/iAtlas/Notebooks/ebpp_test1_1to20.tsv\",\n",
    "    \"class\": \"File\"\n",
    "  },\n",
    "  \"cell_counts_file\": {\n",
    "    \"path\": \"/mnt/c/Users/dgibbs/Work/iAtlas/Notebooks/ebpp_test1_cell_counts.tsv\",\n",
    "    \"class\": \"File\"\n",
    "  },\n",
    "  \"output_file\": \"/mnt/c/Users/dgibbs/Work/iAtlas/Notebooks/ebpp_test1_cibersort.tsv\",\n",
    "  \"sample_name\": \"test1\"\n",
    "}\n",
    "'''\n",
    "fout = open('rundata.json','w')\n",
    "fout.write(rundata)\n",
    "fout.close()\n"
   ]
  },
  {
   "cell_type": "code",
   "execution_count": 11,
   "metadata": {},
   "outputs": [
    {
     "name": "stdout",
     "output_type": "stream",
     "text": [
      "\n",
      "{\n",
      "  \"input_file\": {\n",
      "    \"path\": \"/mnt/c/Users/dgibbs/Work/iAtlas/Notebooks/ebpp_test1_1to20.tsv\",\n",
      "    \"class\": \"File\"\n",
      "  },\n",
      "  \"cell_counts_file\": {\n",
      "    \"path\": \"/mnt/c/Users/dgibbs/Work/iAtlas/Notebooks/ebpp_test1_cell_counts.tsv\",\n",
      "    \"class\": \"File\"\n",
      "  },\n",
      "  \"output_file\": \"/mnt/c/Users/dgibbs/Work/iAtlas/Notebooks/ebpp_test1_cibersort.tsv\",\n",
      "  \"sample_name\": \"test1\"\n",
      "}\n"
     ]
    }
   ],
   "source": [
    "!cat rundata.json"
   ]
  },
  {
   "cell_type": "code",
   "execution_count": 12,
   "metadata": {},
   "outputs": [
    {
     "name": "stdout",
     "output_type": "stream",
     "text": [
      "[##################################################] 100%\n",
      "Created temporary working directory at '/tmp/1576875861797-0'\n",
      "Successfully downloaded files for entry 'github.com/CRI-iAtlas/iatlas-workflows/Cibersort'\n",
      "Creating directories for run of Dockstore launcher at: /mnt/c/Users/dgibbs/Work/iAtlas/Notebooks/datastore//launcher-357a9e3f-cf54-4a95-a5f3-dea4e2c8b32c\n",
      "Provisioning your input files to your local machine\n",
      "Parsed file:///tmp/1576875861797-0/Cibersort/workflow/steps/r_tidy_utils/format_expression_file.cwl\n",
      "Parsed file:///tmp/1576875861797-0/Cibersort/workflow/steps/cibersort_aggregate_celltypes/cibersort_aggregate_celltypes.cwl\n",
      "Preparing download location for: #input_file from /mnt/c/Users/dgibbs/Work/iAtlas/Notebooks/ebpp_test1_1to20.tsv into directory: /mnt/c/Users/dgibbs/Work/iAtlas/Notebooks/datastore//launcher-357a9e3f-cf54-4a95-a5f3-dea4e2c8b32c/inputs/40c7ec2e-b46f-4741-acca-c5de611c7d29\n",
      "Calling out to cwltool to run your workflow\n",
      "Executing: cwltool --enable-dev --non-strict --outdir /mnt/c/Users/dgibbs/Work/iAtlas/Notebooks/datastore//launcher-357a9e3f-cf54-4a95-a5f3-dea4e2c8b32c/outputs/ --tmpdir-prefix /mnt/c/Users/dgibbs/Work/iAtlas/Notebooks/datastore//launcher-357a9e3f-cf54-4a95-a5f3-dea4e2c8b32c/tmp/ --tmp-outdir-prefix /mnt/c/Users/dgibbs/Work/iAtlas/Notebooks/datastore//launcher-357a9e3f-cf54-4a95-a5f3-dea4e2c8b32c/working/ /tmp/1576875861797-0/Cibersort/workflow/cibersort_workflow.cwl /mnt/c/Users/dgibbs/Work/iAtlas/Notebooks/datastore/launcher-357a9e3f-cf54-4a95-a5f3-dea4e2c8b32c/workflow_params.json\n",
      "\u001b[1;30mINFO\u001b[0m /home/dave/.local/bin/cwltool 1.0.20191022103248\n",
      "\u001b[1;30mINFO\u001b[0m Resolved '/tmp/1576875861797-0/Cibersort/workflow/cibersort_workflow.cwl' to 'file:///tmp/1576875861797-0/Cibersort/workflow/cibersort_workflow.cwl'\n",
      "\u001b[1;30mINFO\u001b[0m [workflow ] start\n",
      "\u001b[1;30mINFO\u001b[0m [workflow ] starting step preprocessing\n",
      "\u001b[1;30mINFO\u001b[0m [step preprocessing] start\n",
      "\u001b[1;30mINFO\u001b[0m [job preprocessing] /mnt/c/Users/dgibbs/Work/iAtlas/Notebooks/datastore/launcher-357a9e3f-cf54-4a95-a5f3-dea4e2c8b32c/working/dqddvmkn$ docker \\\n",
      "    run \\\n",
      "    -i \\\n",
      "    --volume=/mnt/c/Users/dgibbs/Work/iAtlas/Notebooks/datastore/launcher-357a9e3f-cf54-4a95-a5f3-dea4e2c8b32c/working/dqddvmkn:/NcjocT:rw \\\n",
      "    --volume=/mnt/c/Users/dgibbs/Work/iAtlas/Notebooks/datastore/launcher-357a9e3f-cf54-4a95-a5f3-dea4e2c8b32c/tmp/804wqbv9:/tmp:rw \\\n",
      "    --volume=/mnt/c/Users/dgibbs/Work/iAtlas/Notebooks/datastore/launcher-357a9e3f-cf54-4a95-a5f3-dea4e2c8b32c/inputs/40c7ec2e-b46f-4741-acca-c5de611c7d29/ebpp_test1_1to20.tsv:/var/lib/cwl/stg79a33196-503e-41e8-b62e-aa9f56391680/ebpp_test1_1to20.tsv:ro \\\n",
      "    --workdir=/NcjocT \\\n",
      "    --read-only=true \\\n",
      "    --user=1000:1000 \\\n",
      "    --rm \\\n",
      "    --env=TMPDIR=/tmp \\\n",
      "    --env=HOME=/NcjocT \\\n",
      "    --cidfile=/mnt/c/Users/dgibbs/Work/iAtlas/Notebooks/datastore/launcher-357a9e3f-cf54-4a95-a5f3-dea4e2c8b32c/tmp/m7cim9t_/20191220130431-277922.cid \\\n",
      "    quay.io/cri-iatlas/r_tidy_utils:1.0 \\\n",
      "    Rscript \\\n",
      "    /usr/local/bin/format_expression_file.R \\\n",
      "    -i \\\n",
      "    /var/lib/cwl/stg79a33196-503e-41e8-b62e-aa9f56391680/ebpp_test1_1to20.tsv \\\n",
      "    -e \\\n",
      "    tpm \\\n",
      "    -g \\\n",
      "    value6 \\\n",
      "    -o \\\n",
      "    output.tsv \\\n",
      "    -m \\\n",
      "    kallisto \\\n",
      "    -s \\\n",
      "    test1\n",
      "Fatal error: cannot create 'R_TempDir'\n",
      "\u001b[1;30mINFO\u001b[0m [job preprocessing] Max memory used: 0MiB\n",
      "\u001b[1;30mERROR\u001b[0m \u001b[31m[job preprocessing] Job error:\n",
      "(\"Error collecting output for parameter 'expression_file':\\n../../../../../../../tmp/1576875861797-0/Cibersort/workflow/steps/r_tidy_utils/format_expression_file.cwl:59:5: Did not find output file with glob pattern: '['output.tsv']'\", {})\u001b[0m\n",
      "\u001b[1;30mWARNING\u001b[0m \u001b[33m[job preprocessing] completed permanentFail\u001b[0m\n",
      "\u001b[1;30mERROR\u001b[0m \u001b[31m[step preprocessing] Output is missing expected field file:///tmp/1576875861797-0/Cibersort/workflow/cibersort_workflow.cwl#preprocessing/expression_file\u001b[0m\n",
      "\u001b[1;30mWARNING\u001b[0m \u001b[33m[step preprocessing] completed permanentFail\u001b[0m\n",
      "\u001b[1;30mINFO\u001b[0m [workflow ] completed permanentFail\n",
      "{\n",
      "    \"cell_counts_file\": null\n",
      "}\n",
      "\u001b[1;30mWARNING\u001b[0m \u001b[33mFinal process status is permanentFail\u001b[0m\n",
      "org.apache.commons.exec.ExecuteException: Process exited with an error: 1 (Exit value: 1)\n",
      "\tat org.apache.commons.exec.DefaultExecutor.executeInternal(DefaultExecutor.java:404)\n",
      "\tat org.apache.commons.exec.DefaultExecutor.access$200(DefaultExecutor.java:48)\n",
      "\tat org.apache.commons.exec.DefaultExecutor$1.run(DefaultExecutor.java:200)\n",
      "\tat java.base/java.lang.Thread.run(Thread.java:834)\n",
      "21:04:32.441 [main] ERROR io.dockstore.client.cli.nested.BaseLanguageClient - Problem running launchercwltool: \n",
      "java.lang.RuntimeException: problems running command: cwltool --enable-dev --non-strict --outdir /mnt/c/Users/dgibbs/Work/iAtlas/Notebooks/datastore//launcher-357a9e3f-cf54-4a95-a5f3-dea4e2c8b32c/outputs/ --tmpdir-prefix /mnt/c/Users/dgibbs/Work/iAtlas/Notebooks/datastore//launcher-357a9e3f-cf54-4a95-a5f3-dea4e2c8b32c/tmp/ --tmp-outdir-prefix /mnt/c/Users/dgibbs/Work/iAtlas/Notebooks/datastore//launcher-357a9e3f-cf54-4a95-a5f3-dea4e2c8b32c/working/ /tmp/1576875861797-0/Cibersort/workflow/cibersort_workflow.cwl /mnt/c/Users/dgibbs/Work/iAtlas/Notebooks/datastore/launcher-357a9e3f-cf54-4a95-a5f3-dea4e2c8b32c/workflow_params.json\n",
      "\tat io.dockstore.common.Utilities.executeCommand(Utilities.java:146)\n",
      "\tat io.dockstore.common.Utilities.executeCommand(Utilities.java:93)\n",
      "\tat io.dockstore.client.cli.nested.BaseLauncher.executeEntry(BaseLauncher.java:112)\n",
      "\tat io.dockstore.client.cli.nested.BaseLanguageClient.commonExecutionCode(BaseLanguageClient.java:342)\n",
      "\tat io.github.collaboratory.cwl.CWLClient.executeEntry(CWLClient.java:255)\n",
      "\tat io.dockstore.client.cli.nested.BaseLanguageClient.launchPipeline(BaseLanguageClient.java:185)\n",
      "\tat io.github.collaboratory.cwl.CWLClient.launch(CWLClient.java:289)\n",
      "\tat io.dockstore.client.cli.nested.WorkflowClient.launch(WorkflowClient.java:431)\n",
      "\tat io.dockstore.client.cli.nested.AbstractEntryClient.processEntryCommands(AbstractEntryClient.java:278)\n",
      "\tat io.dockstore.client.cli.Client.run(Client.java:714)\n",
      "\tat io.dockstore.client.cli.Client.main(Client.java:613)\n",
      "Caused by: org.apache.commons.exec.ExecuteException: problems running command: cwltool --enable-dev --non-strict --outdir /mnt/c/Users/dgibbs/Work/iAtlas/Notebooks/datastore//launcher-357a9e3f-cf54-4a95-a5f3-dea4e2c8b32c/outputs/ --tmpdir-prefix /mnt/c/Users/dgibbs/Work/iAtlas/Notebooks/datastore//launcher-357a9e3f-cf54-4a95-a5f3-dea4e2c8b32c/tmp/ --tmp-outdir-prefix /mnt/c/Users/dgibbs/Work/iAtlas/Notebooks/datastore//launcher-357a9e3f-cf54-4a95-a5f3-dea4e2c8b32c/working/ /tmp/1576875861797-0/Cibersort/workflow/cibersort_workflow.cwl /mnt/c/Users/dgibbs/Work/iAtlas/Notebooks/datastore/launcher-357a9e3f-cf54-4a95-a5f3-dea4e2c8b32c/workflow_params.json (Exit value: 1)\n",
      "\tat io.dockstore.common.Utilities.executeCommand(Utilities.java:142)\n",
      "\t... 10 common frames omitted\n",
      "cwltool exit code: 1\n",
      "21:04:32.446 [main] ERROR io.dockstore.client.cli.ArgumentUtility - problems running command: [cwltool, --enable-dev, --non-strict, --outdir, /mnt/c/Users/dgibbs/Work/iAtlas/Notebooks/datastore//launcher-357a9e3f-cf54-4a95-a5f3-dea4e2c8b32c/outputs/, --tmpdir-prefix, /mnt/c/Users/dgibbs/Work/iAtlas/Notebooks/datastore//launcher-357a9e3f-cf54-4a95-a5f3-dea4e2c8b32c/tmp/, --tmp-outdir-prefix, /mnt/c/Users/dgibbs/Work/iAtlas/Notebooks/datastore//launcher-357a9e3f-cf54-4a95-a5f3-dea4e2c8b32c/working/, /tmp/1576875861797-0/Cibersort/workflow/cibersort_workflow.cwl, /mnt/c/Users/dgibbs/Work/iAtlas/Notebooks/datastore/launcher-357a9e3f-cf54-4a95-a5f3-dea4e2c8b32c/workflow_params.json] (Exit value: 1)\n",
      "21:04:32.447 [main] ERROR io.dockstore.client.cli.ArgumentUtility - org.apache.commons.exec.ExecuteException: problems running command: [cwltool, --enable-dev, --non-strict, --outdir, /mnt/c/Users/dgibbs/Work/iAtlas/Notebooks/datastore//launcher-357a9e3f-cf54-4a95-a5f3-dea4e2c8b32c/outputs/, --tmpdir-prefix, /mnt/c/Users/dgibbs/Work/iAtlas/Notebooks/datastore//launcher-357a9e3f-cf54-4a95-a5f3-dea4e2c8b32c/tmp/, --tmp-outdir-prefix, /mnt/c/Users/dgibbs/Work/iAtlas/Notebooks/datastore//launcher-357a9e3f-cf54-4a95-a5f3-dea4e2c8b32c/working/, /tmp/1576875861797-0/Cibersort/workflow/cibersort_workflow.cwl, /mnt/c/Users/dgibbs/Work/iAtlas/Notebooks/datastore/launcher-357a9e3f-cf54-4a95-a5f3-dea4e2c8b32c/workflow_params.json] (Exit value: 1)\n",
      "\tat io.dockstore.client.cli.nested.BaseLanguageClient.commonExecutionCode(BaseLanguageClient.java:349)\n",
      "\tat io.github.collaboratory.cwl.CWLClient.executeEntry(CWLClient.java:255)\n",
      "\tat io.dockstore.client.cli.nested.BaseLanguageClient.launchPipeline(BaseLanguageClient.java:185)\n",
      "\tat io.github.collaboratory.cwl.CWLClient.launch(CWLClient.java:289)\n",
      "\tat io.dockstore.client.cli.nested.WorkflowClient.launch(WorkflowClient.java:431)\n",
      "\tat io.dockstore.client.cli.nested.AbstractEntryClient.processEntryCommands(AbstractEntryClient.java:278)\n",
      "\tat io.dockstore.client.cli.Client.run(Client.java:714)\n",
      "\tat io.dockstore.client.cli.Client.main(Client.java:613)\n",
      "\n"
     ]
    }
   ],
   "source": [
    "!/home/dave/bin/dockstore workflow launch --script --entry github.com/CRI-iAtlas/iatlas-workflows/Cibersort:develop --json rundata.json"
   ]
  },
  {
   "cell_type": "code",
   "execution_count": 53,
   "metadata": {},
   "outputs": [
    {
     "name": "stdout",
     "output_type": "stream",
     "text": [
      "/bin/sh: 1: Syntax error: EOF in backquote substitution\n"
     ]
    }
   ],
   "source": []
  },
  {
   "cell_type": "markdown",
   "metadata": {},
   "source": [
    "And that should be about it!"
   ]
  }
 ],
 "metadata": {
  "kernelspec": {
   "display_name": "Python 3",
   "language": "python",
   "name": "python3"
  },
  "language_info": {
   "codemirror_mode": {
    "name": "ipython",
    "version": 3
   },
   "file_extension": ".py",
   "mimetype": "text/x-python",
   "name": "python",
   "nbconvert_exporter": "python",
   "pygments_lexer": "ipython3",
   "version": "3.6.8"
  },
  "pycharm": {
   "stem_cell": {
    "cell_type": "raw",
    "metadata": {
     "collapsed": false
    },
    "source": []
   }
  }
 },
 "nbformat": 4,
 "nbformat_minor": 4
}
